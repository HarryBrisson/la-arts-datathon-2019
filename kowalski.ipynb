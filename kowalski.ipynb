{
 "cells": [
  {
   "cell_type": "markdown",
   "metadata": {},
   "source": [
    "# The Benefits of STEAM-y High Schools?\n",
    "\n",
    "*contributors: Harry Brisson, Selena Chau & Clifford Pun*\n",
    "\n",
    "### Our Goal\n",
    "\n",
    "As a part of the [2019 LA Arts Datathon](https://artsdatathon.org/), we wanted to explore the interrelatedness of technology and arts programs at Los Angeles high schools.  Specifically, we were participating in a track that sought to provide [data-centered](https://twitter.com/wfumihsu/status/1113544786873438208) insights that communicate the value of arts education to stakeholders like government officials and corporate donors.  We were provided an [Airtable of pre-curated relevant datasets]('https://airtable.com/shrs07X15QZsUbAZX/tblNYcMp3t5fydivI?blocks=hide') to assist us on our journey.\n",
    "\n",
    "To start, we import the [LA County Arts Ed dataset]('https://www.lacountyartsedcollective.org/profiledata_public') and filter to only schools offering grades 9-12."
   ]
  },
  {
   "cell_type": "code",
   "execution_count": 1,
   "metadata": {},
   "outputs": [
    {
     "name": "stdout",
     "output_type": "stream",
     "text": [
      "there are 404 high schools in the dataset\n"
     ]
    }
   ],
   "source": [
    "import pandas as pd\n",
    "\n",
    "# read in the data\n",
    "d = pd.read_csv('data/artsedprofile_schoolsdata_public.csv')\n",
    "\n",
    "# filter to just high schools\n",
    "d = d[(d['cde_mingrade']=='9') & (d['cde_maxgrade']=='12')]\n",
    "\n",
    "print(\"there are {} high schools in the dataset\".format(len(d)))"
   ]
  },
  {
   "cell_type": "markdown",
   "metadata": {},
   "source": [
    "### How Artsy are LA High Schools?\n",
    "The Arts Ed Profile dataset has columns for the number of enrollees in Music, Dance, Drama, Visual Arts and Media Arts programs, with names like `cde_10th_grade_music_enrollment`.  We want to create a single independent variable that reflects total arts enrollment and adjusts for school enrollment."
   ]
  },
  {
   "cell_type": "code",
   "execution_count": null,
   "metadata": {},
   "outputs": [
    {
     "name": "stdout",
     "output_type": "stream",
     "text": [
      "here are the top 10 schools with the most arts courses per student:\n",
      "                                         cde_school_cde  \\\n",
      "1194               L.A. County High School for the Arts   \n",
      "511               Ednovate - USC Esperanza College Prep   \n",
      "102   California School of the Arts - San Gabriel Va...   \n",
      "359   Ramon C. Cortines School of Visual and Performing   \n",
      "1595  Cesar E. Chavez Learning Academy - Arts/Theatr...   \n",
      "1519               Renaissance High School for the Arts   \n",
      "1584      Esteban Torres East LA Performing Arts Magnet   \n",
      "334   Contreras Learning Center-Los Angeles School o...   \n",
      "500                                   Rise Kohyang High   \n",
      "1535  CHAMPS - Charter HS of Arts-Multimedia & Perfo...   \n",
      "\n",
      "      art_classes_per_student  \n",
      "1194                 4.465455  \n",
      "511                  3.777778  \n",
      "102                  2.189655  \n",
      "359                  2.182031  \n",
      "1595                 2.161017  \n",
      "1519                 1.709360  \n",
      "1584                 1.660147  \n",
      "334                  1.423631  \n",
      "500                  1.395349  \n",
      "1535                 1.390667  \n"
     ]
    }
   ],
   "source": [
    "# create lists for arts programs and grades\n",
    "arts_programs = ['music','dance','visual_arts','media_arts','drama']\n",
    "grades = [\"9th\",\"10th\",\"11th\",\"12th\"]\n",
    "\n",
    "# initialize an empty list of arts columns, we'll use this later\n",
    "arts_columns = []\n",
    "\n",
    "# loop through all programs, creating all-grade enrollment columns\n",
    "for p in arts_programs:\n",
    "    column_name = \"{}_enrollment\".format(p)\n",
    "    arts_columns = arts_columns + [column_name]\n",
    "    d[column_name] = 0\n",
    "    for g in grades:\n",
    "        grade_column_name = \"cde_{}_grade_{}_enrollment\".format(g,p)\n",
    "        d[column_name] = d[column_name] + d[grade_column_name]\n",
    "\n",
    "        \n",
    "# add together all arts enrollments  \n",
    "d['art_enrollment'] = 0\n",
    "for c in arts_columns:\n",
    "    d['art_enrollment'] = d['art_enrollment'] + d[c]\n",
    "\n",
    "\n",
    "# create a per capita stat using school enrollment\n",
    "d['art_classes_per_student'] = d['art_enrollment']/d['schoolenrollment']\n",
    "\n",
    "print(\"here are the top 10 schools with the most arts courses per student:\")\n",
    "print(d[['cde_school_cde','art_classes_per_student']].sort_values('art_classes_per_student',ascending=False).head(10))"
   ]
  },
  {
   "cell_type": "markdown",
   "metadata": {},
   "source": [
    "Now we have an artsiness metric to work with.  \n",
    "\n",
    "### How Techy are LA High Schools?\n",
    "Having only 90 minutes for this entire exercise and no pre-baked technology metric to use, we decided to identify technology-related terms in high school Wikipedia articles using the [wikipedia](https://pypi.org/project/wikipedia/) package.  Our list of terms was limited and other methodologies of capturing techiness are worth exploring in further studies, perhaps by scraping school websites or by evaluating the presence of certain national tech organizations."
   ]
  },
  {
   "cell_type": "code",
   "execution_count": null,
   "metadata": {},
   "outputs": [
    {
     "name": "stderr",
     "output_type": "stream",
     "text": [
      "/anaconda3/lib/python3.6/site-packages/bs4/__init__.py:181: UserWarning: No parser was explicitly specified, so I'm using the best available HTML parser for this system (\"lxml\"). This usually isn't a problem, but if you run this code on another system, or in a different virtual environment, it may use a different parser and behave differently.\n",
      "\n",
      "The code that caused this warning is on line 193 of the file /anaconda3/lib/python3.6/runpy.py. To get rid of this warning, change code that looks like this:\n",
      "\n",
      " BeautifulSoup(YOUR_MARKUP})\n",
      "\n",
      "to this:\n",
      "\n",
      " BeautifulSoup(YOUR_MARKUP, \"lxml\")\n",
      "\n",
      "  markup_type=markup_type))\n"
     ]
    }
   ],
   "source": [
    "import wikipedia\n",
    "\n",
    "# get page content text for a given school name\n",
    "def get_wiki_content(school_name):\n",
    "    try:\n",
    "        w = wikipedia.page(school_name).content\n",
    "    except:\n",
    "        w = None\n",
    "    return w\n",
    "\n",
    "# count the number of times various tech-related words appear in text\n",
    "def count_tech_terms(text):\n",
    "    try:\n",
    "        c = 0\n",
    "        tech_terms = [\"technology\", 'computer', 'technical', 'programming', 'coding', 'engineer']\n",
    "        for t in tech_terms:\n",
    "            c = c + len(text.split(t))-1\n",
    "    except:\n",
    "        return None\n",
    "    return c\n",
    "\n",
    "# count the total number of words in text\n",
    "def count_terms(text):\n",
    "    try:\n",
    "        words = text.split(\" \")\n",
    "        words = [w for w in words if w != \"\"]\n",
    "        return len(words)\n",
    "    except:\n",
    "        return None\n",
    "    \n",
    "# create a column for text identified\n",
    "d['wiki_text'] = d['cde_school_cde'].apply(lambda x: get_wiki_content(x))\n",
    "\n",
    "# count tech words and general words, then determine relative frequency\n",
    "d['tech_count'] = d['wiki_text'].apply(lambda x: count_tech_terms(x))\n",
    "d['word_count'] = d['wiki_text'].apply(lambda x: count_terms(x))\n",
    "d['tech_score'] = d['tech_count']/d['word_count']\n",
    "\n",
    "# filter out cases where wikipedia didn't find content\n",
    "d = d[~d['wiki_text'].isnull()]\n",
    "\n",
    "# filter out cases where wikipedia pulled the generic list of high schools\n",
    "d = d[~(d['wiki_text'].str.contains('This is a list of high schools'))]\n",
    "\n",
    "print(\"here are the top 10 schools with the most tech-related language in their wikis:\")\n",
    "print(d[['cde_school_cde','tech_score']].sort_values('tech_score',ascending=False).head(10))"
   ]
  },
  {
   "cell_type": "code",
   "execution_count": null,
   "metadata": {},
   "outputs": [],
   "source": [
    "d = d[~(d['wiki_text'].str.contains('This is a list of high schools'))]\n"
   ]
  },
  {
   "cell_type": "markdown",
   "metadata": {},
   "source": [
    "### ...Do STEAM-y High Schools Even Exist?\n",
    "\n",
    "Using our new metrics, we can explore the relationship between arts enrollment and tech identity for high schools."
   ]
  },
  {
   "cell_type": "code",
   "execution_count": null,
   "metadata": {},
   "outputs": [],
   "source": [
    "\n",
    "import seaborn as sns; sns.set()\n",
    "import matplotlib.pyplot as plt\n",
    "ax = sns.regplot(x=\"art_classes_per_student\", y=\"tech_score\", data=d, fit_reg=False)\n",
    "plt.show()"
   ]
  },
  {
   "cell_type": "markdown",
   "metadata": {},
   "source": [
    "It looks like the most techy schools aren't particularly artsy, and the most artsy schools aren't particularly techy.\n",
    "\n",
    "Let's force a more even distribution and identify which schools are highest ranked on both scores."
   ]
  },
  {
   "cell_type": "code",
   "execution_count": null,
   "metadata": {},
   "outputs": [],
   "source": [
    "d['artsy_score'] = d['art_classes_per_student'].rank()/len(d)\n",
    "d['techy_score'] = d['tech_score'].rank()/len(d)\n",
    "\n",
    "d['steam_score'] = d['artsy_score']* d['techy_score']\n",
    "\n",
    "print(\"here are the top 10 schools with the most tech-related language in their wikis:\")\n",
    "print(d[['cde_school_cde','steam_score']].sort_values('steam_score',ascending=False).head(10))"
   ]
  },
  {
   "cell_type": "markdown",
   "metadata": {},
   "source": [
    "### Evaluating Impact on Outcomes\n",
    "\n",
    "Selena identified 2016-2017 graduation data that we incorporated into our analysis to view how STEAM scores might correlate with school success.  We connect data on `cde_cds_code`, a unique identifier provided to each school."
   ]
  },
  {
   "cell_type": "code",
   "execution_count": null,
   "metadata": {},
   "outputs": [],
   "source": [
    "# import the graduation data\n",
    "grads = pd.read_csv('data/16-17-grads-cds-csv.csv')\n",
    "\n",
    "# select and rename key columns\n",
    "grads = grads[['Row Labels','Sum of GRADS']]\n",
    "grads.columns = ['cde_cds_code','graduates']\n",
    "\n",
    "# exclude total row\n",
    "grads = grads[:-1]\n",
    "\n",
    "# set cde_cds_code as int\n",
    "grads['cde_cds_code'] = grads['cde_cds_code'].astype(int)\n",
    "\n",
    "# import the senior class size data\n",
    "seniors = pd.read_csv('data/16-17-school-12grade-enrollment.csv')\n",
    "seniors.columns = ['cde_cds_code','county','seniors']\n",
    "\n",
    "# exclude total row\n",
    "seniors = seniors[:-1]\n",
    "\n",
    "# group senior count by cds code\n",
    "seniors = seniors.groupby('cde_cds_code').sum()\n",
    "\n",
    "# set cde_cds_code as index for joining\n",
    "grads = grads.set_index('cde_cds_code')\n",
    "\n",
    "# join grad class size and senior class side\n",
    "grads = grads.join(seniors, how='inner')\n",
    "\n",
    "# calculate grad rate\n",
    "grads['grad_rate'] = grads['graduates']/grads['seniors']\n",
    "\n",
    "# if the grad rate is above 100%, set it to be 100%\n",
    "# (note: unsure why this happens, and it happens a lot; need to research data further)\n",
    "grads.loc[grads['grad_rate']>1,'grad_rate'] = 1\n",
    "\n",
    "# prepare main dataset for join\n",
    "# d['cde_cds_code'] = d['cde_cds_code'].astype(int)\n",
    "# d = d.set_index('cde_cds_code')\n",
    "\n",
    "combined = d.join(grads,how='left')\n",
    "\n",
    "print(\"here are the top 10 schools by graduation rate:\")\n",
    "print(combined[['cde_school_cde','grad_rate']].sort_values('grad_rate',ascending=False).head(10))"
   ]
  },
  {
   "cell_type": "markdown",
   "metadata": {},
   "source": [
    "Though there are issues with the data we'd investigate with more time, we can at least use these rough measures to plot out the relationships between our arts metric, our tech metric and our STEAM metric on graduation rate."
   ]
  },
  {
   "cell_type": "code",
   "execution_count": null,
   "metadata": {},
   "outputs": [],
   "source": [
    "print(combined[['tech_score','art_classes_per_student','steam_score','grad_rate']].corr())\n",
    "\n",
    "ax = sns.regplot(x=\"tech_score\", y=\"grad_rate\", data=combined)\n",
    "plt.show()\n",
    "\n",
    "ax = sns.regplot(x=\"art_classes_per_student\", y=\"grad_rate\", data=combined)\n",
    "plt.show()\n",
    "\n",
    "ax = sns.regplot(x=\"steam_score\", y=\"grad_rate\", data=combined)\n",
    "plt.show()"
   ]
  },
  {
   "cell_type": "markdown",
   "metadata": {},
   "source": [
    "### Conclusions and Next Steps\n",
    "\n",
    "Our `steam_score` correlates more with graduation rate (.17) than either `art_classes_per_student` (.11) or `tech_score` (.05) independently, suggesting there may be incremental benefits when both arts and technology share space in the classroom.\n",
    "\n",
    "Further work building on this analysis could include:\n",
    "* controlling for confounding factors, like school socio-economic status\n",
    "* a more specific measure of tech/engineering curriculum\n",
    "* identifying programs that explicitly integrate arts and technology\n",
    "* exploration of impact on graduate productivity post-graduation\n",
    "* investigating the difference between different arts disciplines\n",
    "\n",
    "All in all, this project was an excellent introduction to the [LA County Arts Ed dataset]('https://www.lacountyartsedcollective.org/profiledata_public'), which is available for others to explore!  There's certainly much more to be gained from working with this and other LA public data, and we look forward to participating again in the LA Arts Datathon next year!\n",
    "\n"
   ]
  }
 ],
 "metadata": {
  "kernelspec": {
   "display_name": "Python [default]",
   "language": "python",
   "name": "python3"
  },
  "language_info": {
   "codemirror_mode": {
    "name": "ipython",
    "version": 3
   },
   "file_extension": ".py",
   "mimetype": "text/x-python",
   "name": "python",
   "nbconvert_exporter": "python",
   "pygments_lexer": "ipython3",
   "version": "3.6.3"
  }
 },
 "nbformat": 4,
 "nbformat_minor": 2
}
